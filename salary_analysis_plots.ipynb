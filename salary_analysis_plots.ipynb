{
 "cells": [
  {
   "cell_type": "code",
   "execution_count": 21,
   "metadata": {},
   "outputs": [],
   "source": [
    "import pandas as pd\n",
    "import numpy as np\n",
    "import matplotlib.pyplot as plt\n",
    "import seaborn as sns\n",
    "\n",
    "%matplotlib inline"
   ]
  },
  {
   "cell_type": "code",
   "execution_count": 12,
   "metadata": {},
   "outputs": [],
   "source": [
    "player_salary_data = pd.read_csv(\"data/player_salaries_with_positions.csv\")"
   ]
  },
  {
   "cell_type": "code",
   "execution_count": 13,
   "metadata": {},
   "outputs": [
    {
     "data": {
      "text/html": [
       "<div>\n",
       "<style scoped>\n",
       "    .dataframe tbody tr th:only-of-type {\n",
       "        vertical-align: middle;\n",
       "    }\n",
       "\n",
       "    .dataframe tbody tr th {\n",
       "        vertical-align: top;\n",
       "    }\n",
       "\n",
       "    .dataframe thead th {\n",
       "        text-align: right;\n",
       "    }\n",
       "</style>\n",
       "<table border=\"1\" class=\"dataframe\">\n",
       "  <thead>\n",
       "    <tr style=\"text-align: right;\">\n",
       "      <th></th>\n",
       "      <th>player_name</th>\n",
       "      <th>salary</th>\n",
       "      <th>salary_inflation_adj</th>\n",
       "      <th>season</th>\n",
       "      <th>team</th>\n",
       "      <th>regular_season</th>\n",
       "      <th>cleaned_names</th>\n",
       "      <th>PLAYER_ID</th>\n",
       "      <th>regular_seasons</th>\n",
       "      <th>PERSON_ID</th>\n",
       "      <th>HEIGHT</th>\n",
       "      <th>WEIGHT</th>\n",
       "      <th>POSITION</th>\n",
       "      <th>five_positions</th>\n",
       "      <th>three_positions</th>\n",
       "    </tr>\n",
       "  </thead>\n",
       "  <tbody>\n",
       "    <tr>\n",
       "      <th>0</th>\n",
       "      <td>A.C. Green</td>\n",
       "      <td>1750000.0</td>\n",
       "      <td>3450733.0</td>\n",
       "      <td>1990-1991</td>\n",
       "      <td>Los Angeles Lakers</td>\n",
       "      <td>1990</td>\n",
       "      <td>AC Green</td>\n",
       "      <td>920.0</td>\n",
       "      <td>21990</td>\n",
       "      <td>920.0</td>\n",
       "      <td>81</td>\n",
       "      <td>225.0</td>\n",
       "      <td>Forward</td>\n",
       "      <td>Forward</td>\n",
       "      <td>Forward</td>\n",
       "    </tr>\n",
       "    <tr>\n",
       "      <th>1</th>\n",
       "      <td>A.C. Green</td>\n",
       "      <td>1750000.0</td>\n",
       "      <td>3295957.0</td>\n",
       "      <td>1991-1992</td>\n",
       "      <td>Los Angeles Lakers</td>\n",
       "      <td>1991</td>\n",
       "      <td>AC Green</td>\n",
       "      <td>920.0</td>\n",
       "      <td>21991</td>\n",
       "      <td>920.0</td>\n",
       "      <td>81</td>\n",
       "      <td>225.0</td>\n",
       "      <td>Forward</td>\n",
       "      <td>Forward</td>\n",
       "      <td>Forward</td>\n",
       "    </tr>\n",
       "    <tr>\n",
       "      <th>2</th>\n",
       "      <td>A.C. Green</td>\n",
       "      <td>1750000.0</td>\n",
       "      <td>3197220.0</td>\n",
       "      <td>1992-1993</td>\n",
       "      <td>Los Angeles Lakers</td>\n",
       "      <td>1992</td>\n",
       "      <td>AC Green</td>\n",
       "      <td>920.0</td>\n",
       "      <td>21992</td>\n",
       "      <td>920.0</td>\n",
       "      <td>81</td>\n",
       "      <td>225.0</td>\n",
       "      <td>Forward</td>\n",
       "      <td>Forward</td>\n",
       "      <td>Forward</td>\n",
       "    </tr>\n",
       "    <tr>\n",
       "      <th>3</th>\n",
       "      <td>A.C. Green</td>\n",
       "      <td>1885000.0</td>\n",
       "      <td>3343694.0</td>\n",
       "      <td>1993-1994</td>\n",
       "      <td>Phoenix Suns</td>\n",
       "      <td>1993</td>\n",
       "      <td>AC Green</td>\n",
       "      <td>920.0</td>\n",
       "      <td>21993</td>\n",
       "      <td>920.0</td>\n",
       "      <td>81</td>\n",
       "      <td>225.0</td>\n",
       "      <td>Forward</td>\n",
       "      <td>Forward</td>\n",
       "      <td>Forward</td>\n",
       "    </tr>\n",
       "    <tr>\n",
       "      <th>4</th>\n",
       "      <td>A.C. Green</td>\n",
       "      <td>6472600.0</td>\n",
       "      <td>11202102.0</td>\n",
       "      <td>1994-1995</td>\n",
       "      <td>Phoenix Suns</td>\n",
       "      <td>1994</td>\n",
       "      <td>AC Green</td>\n",
       "      <td>920.0</td>\n",
       "      <td>21994</td>\n",
       "      <td>920.0</td>\n",
       "      <td>81</td>\n",
       "      <td>225.0</td>\n",
       "      <td>Forward</td>\n",
       "      <td>Forward</td>\n",
       "      <td>Forward</td>\n",
       "    </tr>\n",
       "  </tbody>\n",
       "</table>\n",
       "</div>"
      ],
      "text/plain": [
       "  player_name     salary  salary_inflation_adj     season                team  \\\n",
       "0  A.C. Green  1750000.0             3450733.0  1990-1991  Los Angeles Lakers   \n",
       "1  A.C. Green  1750000.0             3295957.0  1991-1992  Los Angeles Lakers   \n",
       "2  A.C. Green  1750000.0             3197220.0  1992-1993  Los Angeles Lakers   \n",
       "3  A.C. Green  1885000.0             3343694.0  1993-1994        Phoenix Suns   \n",
       "4  A.C. Green  6472600.0            11202102.0  1994-1995        Phoenix Suns   \n",
       "\n",
       "   regular_season cleaned_names  PLAYER_ID  regular_seasons  PERSON_ID  \\\n",
       "0            1990      AC Green      920.0            21990      920.0   \n",
       "1            1991      AC Green      920.0            21991      920.0   \n",
       "2            1992      AC Green      920.0            21992      920.0   \n",
       "3            1993      AC Green      920.0            21993      920.0   \n",
       "4            1994      AC Green      920.0            21994      920.0   \n",
       "\n",
       "   HEIGHT  WEIGHT POSITION five_positions three_positions  \n",
       "0      81   225.0  Forward        Forward         Forward  \n",
       "1      81   225.0  Forward        Forward         Forward  \n",
       "2      81   225.0  Forward        Forward         Forward  \n",
       "3      81   225.0  Forward        Forward         Forward  \n",
       "4      81   225.0  Forward        Forward         Forward  "
      ]
     },
     "execution_count": 13,
     "metadata": {},
     "output_type": "execute_result"
    }
   ],
   "source": [
    "player_salary_data.head()"
   ]
  },
  {
   "cell_type": "markdown",
   "metadata": {},
   "source": [
    "# Cleaning Positions\n",
    "\n",
    "The NBA uses G / F / C nomenclature for their positions, while realgm.com uses a mix of things, so I need to get them all onto the same position map. Due to most of the data being from stats.nba.com, I am going to use the G / F / C positions.\n",
    "\n",
    "TO-DO: use guard / wing / big instead of G / F / C"
   ]
  },
  {
   "cell_type": "code",
   "execution_count": 17,
   "metadata": {},
   "outputs": [],
   "source": [
    "mixed_to_five_position_map = {\n",
    "    \"Forward-Center\": \"PF\",\n",
    "    \"Guard-Forward\": \"SG\",\n",
    "    \"Forward-Guard\": \"SF\",\n",
    "    \"Center-Forward\": \"C\"\n",
    "}\n",
    "\n",
    "five_to_three_position_map = {\n",
    "    \"PG\": \"Guard\",\n",
    "    \"SG\": \"Guard\",\n",
    "    \"SF\": \"Forward\",\n",
    "    \"PF\": \"Forward\",\n",
    "    \"C\": \"Center\"\n",
    "}"
   ]
  },
  {
   "cell_type": "code",
   "execution_count": 18,
   "metadata": {},
   "outputs": [
    {
     "data": {
      "text/plain": [
       "array(['Forward', 'C', 'Guard', 'Center', 'PG', 'PF', 'SG', 'SF'],\n",
       "      dtype=object)"
      ]
     },
     "execution_count": 18,
     "metadata": {},
     "output_type": "execute_result"
    }
   ],
   "source": [
    "player_salary_data[\"five_positions\"] = player_salary_data.POSITION.apply(\n",
    "    lambda x: mixed_to_five_position_map[x] if x in mixed_to_five_position_map else x\n",
    ")\n",
    "player_salary_data.five_positions.unique()"
   ]
  },
  {
   "cell_type": "code",
   "execution_count": 20,
   "metadata": {},
   "outputs": [
    {
     "data": {
      "text/plain": [
       "array(['Forward', 'Center', 'Guard'], dtype=object)"
      ]
     },
     "execution_count": 20,
     "metadata": {},
     "output_type": "execute_result"
    }
   ],
   "source": [
    "player_salary_data[\"three_positions\"] = player_salary_data.five_positions.apply(\n",
    "    lambda x: five_to_three_position_map[x] if x in five_to_three_position_map else x\n",
    ")\n",
    "player_salary_data.three_positions.unique()"
   ]
  },
  {
   "cell_type": "markdown",
   "metadata": {},
   "source": [
    "# Missing Player Salary Seasons"
   ]
  },
  {
   "cell_type": "code",
   "execution_count": 14,
   "metadata": {},
   "outputs": [
    {
     "data": {
      "text/plain": [
       "493"
      ]
     },
     "execution_count": 14,
     "metadata": {},
     "output_type": "execute_result"
    }
   ],
   "source": [
    "player_salary_data.loc[\n",
    "    player_salary_data.player_name.isna()\n",
    "].shape[0]"
   ]
  },
  {
   "cell_type": "code",
   "execution_count": 15,
   "metadata": {},
   "outputs": [
    {
     "data": {
      "text/plain": [
       "395"
      ]
     },
     "execution_count": 15,
     "metadata": {},
     "output_type": "execute_result"
    }
   ],
   "source": [
    "player_salary_data.loc[\n",
    "    player_salary_data.player_name.isna()\n",
    "].cleaned_names.nunique()"
   ]
  },
  {
   "cell_type": "markdown",
   "metadata": {},
   "source": [
    "There are 395 unique players with missing salary seasons, and 493 total instances of missing salary seasons."
   ]
  },
  {
   "cell_type": "code",
   "execution_count": 16,
   "metadata": {},
   "outputs": [
    {
     "data": {
      "text/plain": [
       "regular_season\n",
       "1990    39\n",
       "1991    33\n",
       "1992    27\n",
       "1993    44\n",
       "1994    28\n",
       "1995    22\n",
       "1996    46\n",
       "1997    34\n",
       "1998    26\n",
       "1999     9\n",
       "2000    17\n",
       "2001    17\n",
       "2002    12\n",
       "2003    24\n",
       "2004    24\n",
       "2005    13\n",
       "2006     6\n",
       "2007     9\n",
       "2008     5\n",
       "2009     6\n",
       "2010     7\n",
       "2011    24\n",
       "2012     2\n",
       "2013    11\n",
       "2014     4\n",
       "2015     1\n",
       "2016     3\n",
       "Name: PLAYER_ID, dtype: int64"
      ]
     },
     "execution_count": 16,
     "metadata": {},
     "output_type": "execute_result"
    }
   ],
   "source": [
    "player_salary_data.loc[\n",
    "    player_salary_data.player_name.isna()\n",
    "].groupby(\"regular_season\").PLAYER_ID.count()"
   ]
  },
  {
   "cell_type": "markdown",
   "metadata": {},
   "source": [
    "As we can see, most of the missing salaries are from 2005 and before. The high number of missing salaries from 2011 is likely due to the lockout shortened season."
   ]
  },
  {
   "cell_type": "markdown",
   "metadata": {},
   "source": [
    "# Graphing It"
   ]
  },
  {
   "cell_type": "code",
   "execution_count": 29,
   "metadata": {},
   "outputs": [
    {
     "data": {
      "image/png": "[encoded data removed]",
      "text/plain": [
       "<Figure size 444.125x360 with 1 Axes>"
      ]
     },
     "metadata": {
      "needs_background": "light"
     },
     "output_type": "display_data"
    }
   ],
   "source": [
    "g = sns.relplot(\n",
    "    x=\"regular_season\",\n",
    "    y=\"salary\",\n",
    "    kind=\"line\",\n",
    "    hue=\"three_positions\",\n",
    "    data=player_salary_data,\n",
    "    palette=\"deep\"\n",
    ")\n",
    "\n",
    "g.set_xticklabels(step = 3, rotation=20)\n",
    "sns.utils.plt.ticklabel_format(style='plain', axis='y',useOffset=False)\n",
    "g.set(\n",
    "    title=\"Average Salary by Year and Position\", \n",
    "    xlabel=\"Regular Season\",\n",
    "    ylabel=\"Salary ($)\",\n",
    ")\n",
    "g._legend.set_title(\"Positions\")\n",
    "#g.savefig(\"data/salary_by_year_and_position_basic_line.png\")"
   ]
  },
  {
   "cell_type": "code",
   "execution_count": 39,
   "metadata": {},
   "outputs": [],
   "source": [
    "position_yearly_salary_pct = (\n",
    "    player_salary_data.groupby(\n",
    "        [\"regular_season\", \"three_positions\"]\n",
    "    ).salary.sum() / player_salary_data.groupby(\n",
    "        [\"regular_season\"]\n",
    "    ).salary.sum()\n",
    ").reset_index().rename(columns={\"salary\":\"salary_pct\"})"
   ]
  },
  {
   "cell_type": "code",
   "execution_count": 40,
   "metadata": {},
   "outputs": [
    {
     "data": {
      "text/html": [
       "<div>\n",
       "<style scoped>\n",
       "    .dataframe tbody tr th:only-of-type {\n",
       "        vertical-align: middle;\n",
       "    }\n",
       "\n",
       "    .dataframe tbody tr th {\n",
       "        vertical-align: top;\n",
       "    }\n",
       "\n",
       "    .dataframe thead th {\n",
       "        text-align: right;\n",
       "    }\n",
       "</style>\n",
       "<table border=\"1\" class=\"dataframe\">\n",
       "  <thead>\n",
       "    <tr style=\"text-align: right;\">\n",
       "      <th></th>\n",
       "      <th>regular_season</th>\n",
       "      <th>three_positions</th>\n",
       "      <th>salary_pct</th>\n",
       "    </tr>\n",
       "  </thead>\n",
       "  <tbody>\n",
       "    <tr>\n",
       "      <th>0</th>\n",
       "      <td>1990</td>\n",
       "      <td>Center</td>\n",
       "      <td>0.284625</td>\n",
       "    </tr>\n",
       "    <tr>\n",
       "      <th>1</th>\n",
       "      <td>1990</td>\n",
       "      <td>Forward</td>\n",
       "      <td>0.399154</td>\n",
       "    </tr>\n",
       "    <tr>\n",
       "      <th>2</th>\n",
       "      <td>1990</td>\n",
       "      <td>Guard</td>\n",
       "      <td>0.316221</td>\n",
       "    </tr>\n",
       "    <tr>\n",
       "      <th>3</th>\n",
       "      <td>1991</td>\n",
       "      <td>Center</td>\n",
       "      <td>0.272616</td>\n",
       "    </tr>\n",
       "    <tr>\n",
       "      <th>4</th>\n",
       "      <td>1991</td>\n",
       "      <td>Forward</td>\n",
       "      <td>0.391794</td>\n",
       "    </tr>\n",
       "    <tr>\n",
       "      <th>...</th>\n",
       "      <td>...</td>\n",
       "      <td>...</td>\n",
       "      <td>...</td>\n",
       "    </tr>\n",
       "    <tr>\n",
       "      <th>82</th>\n",
       "      <td>2017</td>\n",
       "      <td>Forward</td>\n",
       "      <td>0.381816</td>\n",
       "    </tr>\n",
       "    <tr>\n",
       "      <th>83</th>\n",
       "      <td>2017</td>\n",
       "      <td>Guard</td>\n",
       "      <td>0.421704</td>\n",
       "    </tr>\n",
       "    <tr>\n",
       "      <th>84</th>\n",
       "      <td>2018</td>\n",
       "      <td>Center</td>\n",
       "      <td>0.185866</td>\n",
       "    </tr>\n",
       "    <tr>\n",
       "      <th>85</th>\n",
       "      <td>2018</td>\n",
       "      <td>Forward</td>\n",
       "      <td>0.389913</td>\n",
       "    </tr>\n",
       "    <tr>\n",
       "      <th>86</th>\n",
       "      <td>2018</td>\n",
       "      <td>Guard</td>\n",
       "      <td>0.424221</td>\n",
       "    </tr>\n",
       "  </tbody>\n",
       "</table>\n",
       "<p>87 rows × 3 columns</p>\n",
       "</div>"
      ],
      "text/plain": [
       "    regular_season three_positions  salary_pct\n",
       "0             1990          Center    0.284625\n",
       "1             1990         Forward    0.399154\n",
       "2             1990           Guard    0.316221\n",
       "3             1991          Center    0.272616\n",
       "4             1991         Forward    0.391794\n",
       "..             ...             ...         ...\n",
       "82            2017         Forward    0.381816\n",
       "83            2017           Guard    0.421704\n",
       "84            2018          Center    0.185866\n",
       "85            2018         Forward    0.389913\n",
       "86            2018           Guard    0.424221\n",
       "\n",
       "[87 rows x 3 columns]"
      ]
     },
     "execution_count": 40,
     "metadata": {},
     "output_type": "execute_result"
    }
   ],
   "source": [
    "position_yearly_salary_pct"
   ]
  },
  {
   "cell_type": "code",
   "execution_count": 43,
   "metadata": {},
   "outputs": [
    {
     "data": {
      "image/png": "[encoded data removed]",
      "text/plain": [
       "<Figure size 444.125x360 with 1 Axes>"
      ]
     },
     "metadata": {
      "needs_background": "light"
     },
     "output_type": "display_data"
    }
   ],
   "source": [
    "g = sns.relplot(\n",
    "    x=\"regular_season\",\n",
    "    y=\"salary_pct\",\n",
    "    kind=\"line\",\n",
    "    hue=\"three_positions\",\n",
    "    data=position_yearly_salary_pct,\n",
    "    palette=\"deep\"\n",
    ")\n",
    "\n",
    "g.set_xticklabels(step = 3, rotation=20)\n",
    "sns.utils.plt.ticklabel_format(style='plain', axis='y',useOffset=False)\n",
    "g.set(\n",
    "    title=\"Percent of Total Salary by Year and Position\", \n",
    "    xlabel=\"Regular Season\",\n",
    "    ylabel=\"Pct of Total Salary\",\n",
    ")\n",
    "g._legend.set_title(\"Positions\")"
   ]
  },
  {
   "cell_type": "code",
   "execution_count": 44,
   "metadata": {},
   "outputs": [
    {
     "data": {
      "text/plain": [
       "regular_season  three_positions\n",
       "1990            Guard              152\n",
       "                Forward            151\n",
       "                Center              90\n",
       "1991            Guard              166\n",
       "                Forward            162\n",
       "                                  ... \n",
       "2017            Forward            238\n",
       "                Center              88\n",
       "2018            Guard              297\n",
       "                Forward            235\n",
       "                Center              89\n",
       "Name: three_positions, Length: 87, dtype: int64"
      ]
     },
     "execution_count": 44,
     "metadata": {},
     "output_type": "execute_result"
    }
   ],
   "source": [
    "player_salary_data.groupby(\"regular_season\").three_positions.value_counts()"
   ]
  },
  {
   "cell_type": "markdown",
   "metadata": {},
   "source": [
    "# Adding in Salary Cap"
   ]
  },
  {
   "cell_type": "code",
   "execution_count": 45,
   "metadata": {},
   "outputs": [],
   "source": [
    "salary_caps = pd.read_csv(\"data/NBA_yearly_salary_caps.csv\")"
   ]
  },
  {
   "cell_type": "code",
   "execution_count": 46,
   "metadata": {},
   "outputs": [
    {
     "data": {
      "text/html": [
       "<div>\n",
       "<style scoped>\n",
       "    .dataframe tbody tr th:only-of-type {\n",
       "        vertical-align: middle;\n",
       "    }\n",
       "\n",
       "    .dataframe tbody tr th {\n",
       "        vertical-align: top;\n",
       "    }\n",
       "\n",
       "    .dataframe thead th {\n",
       "        text-align: right;\n",
       "    }\n",
       "</style>\n",
       "<table border=\"1\" class=\"dataframe\">\n",
       "  <thead>\n",
       "    <tr style=\"text-align: right;\">\n",
       "      <th></th>\n",
       "      <th>Season</th>\n",
       "      <th>Salary Cap</th>\n",
       "      <th>Luxury Tax</th>\n",
       "      <th>BAE</th>\n",
       "      <th>Standard /Non-Taxpayer MLE</th>\n",
       "      <th>Taxpayer MLE</th>\n",
       "      <th>Team Room /Under Cap MLE</th>\n",
       "    </tr>\n",
       "  </thead>\n",
       "  <tbody>\n",
       "    <tr>\n",
       "      <th>0</th>\n",
       "      <td>2027-2028</td>\n",
       "      <td>167513000</td>\n",
       "      <td>202355000.0</td>\n",
       "      <td>5562000.0</td>\n",
       "      <td>14210000.0</td>\n",
       "      <td>8776000.0</td>\n",
       "      <td>7317000.0</td>\n",
       "    </tr>\n",
       "    <tr>\n",
       "      <th>1</th>\n",
       "      <td>2026-2027</td>\n",
       "      <td>159536000</td>\n",
       "      <td>192719000.0</td>\n",
       "      <td>5297000.0</td>\n",
       "      <td>13533000.0</td>\n",
       "      <td>8358000.0</td>\n",
       "      <td>6969000.0</td>\n",
       "    </tr>\n",
       "    <tr>\n",
       "      <th>2</th>\n",
       "      <td>2025-2026</td>\n",
       "      <td>151939000</td>\n",
       "      <td>183542000.0</td>\n",
       "      <td>5045000.0</td>\n",
       "      <td>12889000.0</td>\n",
       "      <td>7960000.0</td>\n",
       "      <td>6637000.0</td>\n",
       "    </tr>\n",
       "    <tr>\n",
       "      <th>3</th>\n",
       "      <td>2024-2025</td>\n",
       "      <td>144704000</td>\n",
       "      <td>174802000.0</td>\n",
       "      <td>4805000.0</td>\n",
       "      <td>12275000.0</td>\n",
       "      <td>7581000.0</td>\n",
       "      <td>6321000.0</td>\n",
       "    </tr>\n",
       "    <tr>\n",
       "      <th>4</th>\n",
       "      <td>2023-2024</td>\n",
       "      <td>137813000</td>\n",
       "      <td>166478000.0</td>\n",
       "      <td>4576000.0</td>\n",
       "      <td>11690000.0</td>\n",
       "      <td>7220000.0</td>\n",
       "      <td>6020000.0</td>\n",
       "    </tr>\n",
       "  </tbody>\n",
       "</table>\n",
       "</div>"
      ],
      "text/plain": [
       "      Season  Salary Cap   Luxury Tax        BAE  Standard /Non-Taxpayer MLE  \\\n",
       "0  2027-2028   167513000  202355000.0  5562000.0                  14210000.0   \n",
       "1  2026-2027   159536000  192719000.0  5297000.0                  13533000.0   \n",
       "2  2025-2026   151939000  183542000.0  5045000.0                  12889000.0   \n",
       "3  2024-2025   144704000  174802000.0  4805000.0                  12275000.0   \n",
       "4  2023-2024   137813000  166478000.0  4576000.0                  11690000.0   \n",
       "\n",
       "   Taxpayer MLE  Team Room /Under Cap MLE  \n",
       "0     8776000.0                 7317000.0  \n",
       "1     8358000.0                 6969000.0  \n",
       "2     7960000.0                 6637000.0  \n",
       "3     7581000.0                 6321000.0  \n",
       "4     7220000.0                 6020000.0  "
      ]
     },
     "execution_count": 46,
     "metadata": {},
     "output_type": "execute_result"
    }
   ],
   "source": [
    "salary_caps.head()"
   ]
  },
  {
   "cell_type": "code",
   "execution_count": null,
   "metadata": {},
   "outputs": [],
   "source": []
  }
 ],
 "metadata": {
  "kernelspec": {
   "display_name": "Python 3",
   "language": "python",
   "name": "python3"
  },
  "language_info": {
   "codemirror_mode": {
    "name": "ipython",
    "version": 3
   },
   "file_extension": ".py",
   "mimetype": "text/x-python",
   "name": "python",
   "nbconvert_exporter": "python",
   "pygments_lexer": "ipython3",
   "version": "3.8.5"
  }
 },
 "nbformat": 4,
 "nbformat_minor": 4
}
