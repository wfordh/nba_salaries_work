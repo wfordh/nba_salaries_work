{
 "cells": [
  {
   "cell_type": "code",
   "execution_count": 2,
   "metadata": {},
   "outputs": [],
   "source": [
    "import pandas as pd\n",
    "import numpy as np\n",
    "import matplotlib.pyplot as plt\n",
    "import seaborn as sns\n",
    "\n",
    "%matplotlib inline"
   ]
  },
  {
   "cell_type": "code",
   "execution_count": 3,
   "metadata": {},
   "outputs": [],
   "source": [
    "player_salary_data = pd.read_csv(\"data/player_salaries_with_positions.csv\")"
   ]
  },
  {
   "cell_type": "code",
   "execution_count": 4,
   "metadata": {},
   "outputs": [
    {
     "data": {
      "text/html": [
       "<div>\n",
       "<style scoped>\n",
       "    .dataframe tbody tr th:only-of-type {\n",
       "        vertical-align: middle;\n",
       "    }\n",
       "\n",
       "    .dataframe tbody tr th {\n",
       "        vertical-align: top;\n",
       "    }\n",
       "\n",
       "    .dataframe thead th {\n",
       "        text-align: right;\n",
       "    }\n",
       "</style>\n",
       "<table border=\"1\" class=\"dataframe\">\n",
       "  <thead>\n",
       "    <tr style=\"text-align: right;\">\n",
       "      <th></th>\n",
       "      <th>player_name</th>\n",
       "      <th>salary</th>\n",
       "      <th>salary_inflation_adj</th>\n",
       "      <th>season</th>\n",
       "      <th>team</th>\n",
       "      <th>regular_season</th>\n",
       "      <th>cleaned_names</th>\n",
       "      <th>PLAYER_ID</th>\n",
       "      <th>regular_seasons</th>\n",
       "      <th>PERSON_ID</th>\n",
       "      <th>HEIGHT</th>\n",
       "      <th>WEIGHT</th>\n",
       "      <th>POSITION</th>\n",
       "      <th>five_positions</th>\n",
       "      <th>three_positions</th>\n",
       "    </tr>\n",
       "  </thead>\n",
       "  <tbody>\n",
       "    <tr>\n",
       "      <th>0</th>\n",
       "      <td>A.C. Green</td>\n",
       "      <td>1750000.0</td>\n",
       "      <td>3450733.0</td>\n",
       "      <td>1990-1991</td>\n",
       "      <td>Los Angeles Lakers</td>\n",
       "      <td>1990</td>\n",
       "      <td>AC Green</td>\n",
       "      <td>920.0</td>\n",
       "      <td>21990</td>\n",
       "      <td>920.0</td>\n",
       "      <td>81</td>\n",
       "      <td>225.0</td>\n",
       "      <td>Forward</td>\n",
       "      <td>Forward</td>\n",
       "      <td>Forward</td>\n",
       "    </tr>\n",
       "    <tr>\n",
       "      <th>1</th>\n",
       "      <td>A.C. Green</td>\n",
       "      <td>1750000.0</td>\n",
       "      <td>3295957.0</td>\n",
       "      <td>1991-1992</td>\n",
       "      <td>Los Angeles Lakers</td>\n",
       "      <td>1991</td>\n",
       "      <td>AC Green</td>\n",
       "      <td>920.0</td>\n",
       "      <td>21991</td>\n",
       "      <td>920.0</td>\n",
       "      <td>81</td>\n",
       "      <td>225.0</td>\n",
       "      <td>Forward</td>\n",
       "      <td>Forward</td>\n",
       "      <td>Forward</td>\n",
       "    </tr>\n",
       "    <tr>\n",
       "      <th>2</th>\n",
       "      <td>A.C. Green</td>\n",
       "      <td>1750000.0</td>\n",
       "      <td>3197220.0</td>\n",
       "      <td>1992-1993</td>\n",
       "      <td>Los Angeles Lakers</td>\n",
       "      <td>1992</td>\n",
       "      <td>AC Green</td>\n",
       "      <td>920.0</td>\n",
       "      <td>21992</td>\n",
       "      <td>920.0</td>\n",
       "      <td>81</td>\n",
       "      <td>225.0</td>\n",
       "      <td>Forward</td>\n",
       "      <td>Forward</td>\n",
       "      <td>Forward</td>\n",
       "    </tr>\n",
       "    <tr>\n",
       "      <th>3</th>\n",
       "      <td>A.C. Green</td>\n",
       "      <td>1885000.0</td>\n",
       "      <td>3343694.0</td>\n",
       "      <td>1993-1994</td>\n",
       "      <td>Phoenix Suns</td>\n",
       "      <td>1993</td>\n",
       "      <td>AC Green</td>\n",
       "      <td>920.0</td>\n",
       "      <td>21993</td>\n",
       "      <td>920.0</td>\n",
       "      <td>81</td>\n",
       "      <td>225.0</td>\n",
       "      <td>Forward</td>\n",
       "      <td>Forward</td>\n",
       "      <td>Forward</td>\n",
       "    </tr>\n",
       "    <tr>\n",
       "      <th>4</th>\n",
       "      <td>A.C. Green</td>\n",
       "      <td>6472600.0</td>\n",
       "      <td>11202102.0</td>\n",
       "      <td>1994-1995</td>\n",
       "      <td>Phoenix Suns</td>\n",
       "      <td>1994</td>\n",
       "      <td>AC Green</td>\n",
       "      <td>920.0</td>\n",
       "      <td>21994</td>\n",
       "      <td>920.0</td>\n",
       "      <td>81</td>\n",
       "      <td>225.0</td>\n",
       "      <td>Forward</td>\n",
       "      <td>Forward</td>\n",
       "      <td>Forward</td>\n",
       "    </tr>\n",
       "  </tbody>\n",
       "</table>\n",
       "</div>"
      ],
      "text/plain": [
       "  player_name     salary  salary_inflation_adj     season                team  \\\n",
       "0  A.C. Green  1750000.0             3450733.0  1990-1991  Los Angeles Lakers   \n",
       "1  A.C. Green  1750000.0             3295957.0  1991-1992  Los Angeles Lakers   \n",
       "2  A.C. Green  1750000.0             3197220.0  1992-1993  Los Angeles Lakers   \n",
       "3  A.C. Green  1885000.0             3343694.0  1993-1994        Phoenix Suns   \n",
       "4  A.C. Green  6472600.0            11202102.0  1994-1995        Phoenix Suns   \n",
       "\n",
       "   regular_season cleaned_names  PLAYER_ID  regular_seasons  PERSON_ID  \\\n",
       "0            1990      AC Green      920.0            21990      920.0   \n",
       "1            1991      AC Green      920.0            21991      920.0   \n",
       "2            1992      AC Green      920.0            21992      920.0   \n",
       "3            1993      AC Green      920.0            21993      920.0   \n",
       "4            1994      AC Green      920.0            21994      920.0   \n",
       "\n",
       "   HEIGHT  WEIGHT POSITION five_positions three_positions  \n",
       "0      81   225.0  Forward        Forward         Forward  \n",
       "1      81   225.0  Forward        Forward         Forward  \n",
       "2      81   225.0  Forward        Forward         Forward  \n",
       "3      81   225.0  Forward        Forward         Forward  \n",
       "4      81   225.0  Forward        Forward         Forward  "
      ]
     },
     "execution_count": 4,
     "metadata": {},
     "output_type": "execute_result"
    }
   ],
   "source": [
    "player_salary_data.head()"
   ]
  },
  {
   "cell_type": "markdown",
   "metadata": {},
   "source": [
    "# Cleaning Positions\n",
    "\n",
    "The NBA uses G / F / C nomenclature for their positions, while realgm.com uses a mix of things, so I need to get them all onto the same position map. Due to most of the data being from stats.nba.com, I am going to use the G / F / C positions.\n",
    "\n",
    "TO-DO: use guard / wing / big instead of G / F / C"
   ]
  },
  {
   "cell_type": "code",
   "execution_count": 5,
   "metadata": {},
   "outputs": [],
   "source": [
    "mixed_to_five_position_map = {\n",
    "    \"Forward-Center\": \"PF\",\n",
    "    \"Guard-Forward\": \"SG\",\n",
    "    \"Forward-Guard\": \"SF\",\n",
    "    \"Center-Forward\": \"C\"\n",
    "}\n",
    "\n",
    "five_to_three_position_map = {\n",
    "    \"PG\": \"Guard\",\n",
    "    \"SG\": \"Guard\",\n",
    "    \"SF\": \"Forward\",\n",
    "    \"PF\": \"Forward\",\n",
    "    \"C\": \"Center\"\n",
    "}"
   ]
  },
  {
   "cell_type": "code",
   "execution_count": 6,
   "metadata": {},
   "outputs": [
    {
     "data": {
      "text/plain": [
       "array(['Forward', 'C', 'Guard', 'Center', 'PG', 'PF', 'SG', 'SF'],\n",
       "      dtype=object)"
      ]
     },
     "execution_count": 6,
     "metadata": {},
     "output_type": "execute_result"
    }
   ],
   "source": [
    "player_salary_data[\"five_positions\"] = player_salary_data.POSITION.apply(\n",
    "    lambda x: mixed_to_five_position_map[x] if x in mixed_to_five_position_map else x\n",
    ")\n",
    "player_salary_data.five_positions.unique()"
   ]
  },
  {
   "cell_type": "code",
   "execution_count": 7,
   "metadata": {},
   "outputs": [
    {
     "data": {
      "text/plain": [
       "array(['Forward', 'Center', 'Guard'], dtype=object)"
      ]
     },
     "execution_count": 7,
     "metadata": {},
     "output_type": "execute_result"
    }
   ],
   "source": [
    "player_salary_data[\"three_positions\"] = player_salary_data.five_positions.apply(\n",
    "    lambda x: five_to_three_position_map[x] if x in five_to_three_position_map else x\n",
    ")\n",
    "player_salary_data.three_positions.unique()"
   ]
  },
  {
   "cell_type": "markdown",
   "metadata": {},
   "source": [
    "# Missing Player Salary Seasons"
   ]
  },
  {
   "cell_type": "code",
   "execution_count": 8,
   "metadata": {},
   "outputs": [
    {
     "data": {
      "text/plain": [
       "493"
      ]
     },
     "execution_count": 8,
     "metadata": {},
     "output_type": "execute_result"
    }
   ],
   "source": [
    "player_salary_data.loc[\n",
    "    player_salary_data.player_name.isna()\n",
    "].shape[0]"
   ]
  },
  {
   "cell_type": "code",
   "execution_count": 9,
   "metadata": {},
   "outputs": [
    {
     "data": {
      "text/plain": [
       "395"
      ]
     },
     "execution_count": 9,
     "metadata": {},
     "output_type": "execute_result"
    }
   ],
   "source": [
    "player_salary_data.loc[\n",
    "    player_salary_data.player_name.isna()\n",
    "].cleaned_names.nunique()"
   ]
  },
  {
   "cell_type": "markdown",
   "metadata": {},
   "source": [
    "There are 395 unique players with missing salary seasons, and 493 total instances of missing salary seasons."
   ]
  },
  {
   "cell_type": "code",
   "execution_count": 10,
   "metadata": {},
   "outputs": [
    {
     "data": {
      "text/plain": [
       "regular_season\n",
       "1990    39\n",
       "1991    33\n",
       "1992    27\n",
       "1993    44\n",
       "1994    28\n",
       "1995    22\n",
       "1996    46\n",
       "1997    34\n",
       "1998    26\n",
       "1999     9\n",
       "2000    17\n",
       "2001    17\n",
       "2002    12\n",
       "2003    24\n",
       "2004    24\n",
       "2005    13\n",
       "2006     6\n",
       "2007     9\n",
       "2008     5\n",
       "2009     6\n",
       "2010     7\n",
       "2011    24\n",
       "2012     2\n",
       "2013    11\n",
       "2014     4\n",
       "2015     1\n",
       "2016     3\n",
       "Name: PLAYER_ID, dtype: int64"
      ]
     },
     "execution_count": 10,
     "metadata": {},
     "output_type": "execute_result"
    }
   ],
   "source": [
    "player_salary_data.loc[\n",
    "    player_salary_data.player_name.isna()\n",
    "].groupby(\"regular_season\").PLAYER_ID.count()"
   ]
  },
  {
   "cell_type": "markdown",
   "metadata": {},
   "source": [
    "As we can see, most of the missing salaries are from 2005 and before. The high number of missing salaries from 2011 is likely due to the lockout shortened season."
   ]
  },
  {
   "cell_type": "markdown",
   "metadata": {},
   "source": [
    "# Graphing It"
   ]
  },
  {
   "cell_type": "code",
   "execution_count": 11,
   "metadata": {},
   "outputs": [
    {
     "data": {
      "image/png": "[encoded data removed]",
      "text/plain": [
       "<Figure size 444.125x360 with 1 Axes>"
      ]
     },
     "metadata": {
      "needs_background": "light"
     },
     "output_type": "display_data"
    }
   ],
   "source": [
    "g = sns.relplot(\n",
    "    x=\"regular_season\",\n",
    "    y=\"salary\",\n",
    "    kind=\"line\",\n",
    "    hue=\"three_positions\",\n",
    "    data=player_salary_data,\n",
    "    palette=\"deep\"\n",
    ")\n",
    "\n",
    "g.set_xticklabels(step = 3, rotation=20)\n",
    "sns.utils.plt.ticklabel_format(style='plain', axis='y',useOffset=False)\n",
    "g.set(\n",
    "    title=\"Average Salary by Year and Position\", \n",
    "    xlabel=\"Regular Season\",\n",
    "    ylabel=\"Salary ($)\",\n",
    ")\n",
    "g._legend.set_title(\"Positions\")\n",
    "#g.savefig(\"data/salary_by_year_and_position_basic_line.png\")"
   ]
  },
  {
   "cell_type": "code",
   "execution_count": 12,
   "metadata": {},
   "outputs": [],
   "source": [
    "position_yearly_salary_pct = (\n",
    "    player_salary_data.groupby(\n",
    "        [\"regular_season\", \"three_positions\"]\n",
    "    ).salary.sum() / player_salary_data.groupby(\n",
    "        [\"regular_season\"]\n",
    "    ).salary.sum()\n",
    ").reset_index().rename(columns={\"salary\":\"salary_pct\"})"
   ]
  },
  {
   "cell_type": "code",
   "execution_count": 13,
   "metadata": {},
   "outputs": [
    {
     "data": {
      "text/html": [
       "<div>\n",
       "<style scoped>\n",
       "    .dataframe tbody tr th:only-of-type {\n",
       "        vertical-align: middle;\n",
       "    }\n",
       "\n",
       "    .dataframe tbody tr th {\n",
       "        vertical-align: top;\n",
       "    }\n",
       "\n",
       "    .dataframe thead th {\n",
       "        text-align: right;\n",
       "    }\n",
       "</style>\n",
       "<table border=\"1\" class=\"dataframe\">\n",
       "  <thead>\n",
       "    <tr style=\"text-align: right;\">\n",
       "      <th></th>\n",
       "      <th>regular_season</th>\n",
       "      <th>three_positions</th>\n",
       "      <th>salary_pct</th>\n",
       "    </tr>\n",
       "  </thead>\n",
       "  <tbody>\n",
       "    <tr>\n",
       "      <th>0</th>\n",
       "      <td>1990</td>\n",
       "      <td>Center</td>\n",
       "      <td>0.284625</td>\n",
       "    </tr>\n",
       "    <tr>\n",
       "      <th>1</th>\n",
       "      <td>1990</td>\n",
       "      <td>Forward</td>\n",
       "      <td>0.399154</td>\n",
       "    </tr>\n",
       "    <tr>\n",
       "      <th>2</th>\n",
       "      <td>1990</td>\n",
       "      <td>Guard</td>\n",
       "      <td>0.316221</td>\n",
       "    </tr>\n",
       "    <tr>\n",
       "      <th>3</th>\n",
       "      <td>1991</td>\n",
       "      <td>Center</td>\n",
       "      <td>0.272616</td>\n",
       "    </tr>\n",
       "    <tr>\n",
       "      <th>4</th>\n",
       "      <td>1991</td>\n",
       "      <td>Forward</td>\n",
       "      <td>0.391794</td>\n",
       "    </tr>\n",
       "    <tr>\n",
       "      <th>...</th>\n",
       "      <td>...</td>\n",
       "      <td>...</td>\n",
       "      <td>...</td>\n",
       "    </tr>\n",
       "    <tr>\n",
       "      <th>82</th>\n",
       "      <td>2017</td>\n",
       "      <td>Forward</td>\n",
       "      <td>0.381816</td>\n",
       "    </tr>\n",
       "    <tr>\n",
       "      <th>83</th>\n",
       "      <td>2017</td>\n",
       "      <td>Guard</td>\n",
       "      <td>0.421704</td>\n",
       "    </tr>\n",
       "    <tr>\n",
       "      <th>84</th>\n",
       "      <td>2018</td>\n",
       "      <td>Center</td>\n",
       "      <td>0.185866</td>\n",
       "    </tr>\n",
       "    <tr>\n",
       "      <th>85</th>\n",
       "      <td>2018</td>\n",
       "      <td>Forward</td>\n",
       "      <td>0.389913</td>\n",
       "    </tr>\n",
       "    <tr>\n",
       "      <th>86</th>\n",
       "      <td>2018</td>\n",
       "      <td>Guard</td>\n",
       "      <td>0.424221</td>\n",
       "    </tr>\n",
       "  </tbody>\n",
       "</table>\n",
       "<p>87 rows × 3 columns</p>\n",
       "</div>"
      ],
      "text/plain": [
       "    regular_season three_positions  salary_pct\n",
       "0             1990          Center    0.284625\n",
       "1             1990         Forward    0.399154\n",
       "2             1990           Guard    0.316221\n",
       "3             1991          Center    0.272616\n",
       "4             1991         Forward    0.391794\n",
       "..             ...             ...         ...\n",
       "82            2017         Forward    0.381816\n",
       "83            2017           Guard    0.421704\n",
       "84            2018          Center    0.185866\n",
       "85            2018         Forward    0.389913\n",
       "86            2018           Guard    0.424221\n",
       "\n",
       "[87 rows x 3 columns]"
      ]
     },
     "execution_count": 13,
     "metadata": {},
     "output_type": "execute_result"
    }
   ],
   "source": [
    "position_yearly_salary_pct"
   ]
  },
  {
   "cell_type": "code",
   "execution_count": 14,
   "metadata": {},
   "outputs": [
    {
     "data": {
      "image/png": "[encoded data removed]",
      "text/plain": [
       "<Figure size 444.125x360 with 1 Axes>"
      ]
     },
     "metadata": {
      "needs_background": "light"
     },
     "output_type": "display_data"
    }
   ],
   "source": [
    "g = sns.relplot(\n",
    "    x=\"regular_season\",\n",
    "    y=\"salary_pct\",\n",
    "    kind=\"line\",\n",
    "    hue=\"three_positions\",\n",
    "    data=position_yearly_salary_pct,\n",
    "    palette=\"deep\"\n",
    ")\n",
    "\n",
    "g.set_xticklabels(step = 3, rotation=20)\n",
    "sns.utils.plt.ticklabel_format(style='plain', axis='y',useOffset=False)\n",
    "g.set(\n",
    "    title=\"Percent of Total Salary by Year and Position\", \n",
    "    xlabel=\"Regular Season\",\n",
    "    ylabel=\"Pct of Total Salary\",\n",
    ")\n",
    "g._legend.set_title(\"Positions\")"
   ]
  },
  {
   "cell_type": "code",
   "execution_count": 41,
   "metadata": {},
   "outputs": [],
   "source": [
    "grp_season_salary_data = player_salary_data.groupby(\"regular_season\")\n",
    "\n",
    "position_yearly_contract_pct = (\n",
    "    grp_season_salary_data.three_positions.value_counts() / grp_season_salary_data.salary.count()\n",
    ").reset_index().rename(columns={0:\"pct_of_contracts\"})"
   ]
  },
  {
   "cell_type": "code",
   "execution_count": 42,
   "metadata": {},
   "outputs": [
    {
     "data": {
      "image/png": "[encoded data removed]",
      "text/plain": [
       "<Figure size 444.125x360 with 1 Axes>"
      ]
     },
     "metadata": {
      "needs_background": "light"
     },
     "output_type": "display_data"
    }
   ],
   "source": [
    "g = sns.relplot(\n",
    "    x=\"regular_season\",\n",
    "    y=\"pct_of_contracts\",\n",
    "    kind=\"line\",\n",
    "    hue=\"three_positions\",\n",
    "    data=position_yearly_contract_pct,\n",
    "    palette=\"deep\"\n",
    ")\n",
    "\n",
    "g.set_xticklabels(step = 3, rotation=20)\n",
    "sns.utils.plt.ticklabel_format(style='plain', axis='y',useOffset=False)\n",
    "g.set(\n",
    "    title=\"Percent of Total Salary by Year and Position\", \n",
    "    xlabel=\"Regular Season\",\n",
    "    ylabel=\"Pct of Total Salary\",\n",
    ")\n",
    "g._legend.set_title(\"Positions\")"
   ]
  },
  {
   "cell_type": "markdown",
   "metadata": {},
   "source": [
    "# Adding in Salary Cap"
   ]
  },
  {
   "cell_type": "code",
   "execution_count": 44,
   "metadata": {},
   "outputs": [],
   "source": [
    "salary_caps = pd.read_csv(\"data/NBA_yearly_salary_caps.csv\")"
   ]
  },
  {
   "cell_type": "code",
   "execution_count": 45,
   "metadata": {},
   "outputs": [
    {
     "name": "stdout",
     "output_type": "stream",
     "text": [
      "45\n"
     ]
    },
    {
     "data": {
      "text/html": [
       "<div>\n",
       "<style scoped>\n",
       "    .dataframe tbody tr th:only-of-type {\n",
       "        vertical-align: middle;\n",
       "    }\n",
       "\n",
       "    .dataframe tbody tr th {\n",
       "        vertical-align: top;\n",
       "    }\n",
       "\n",
       "    .dataframe thead th {\n",
       "        text-align: right;\n",
       "    }\n",
       "</style>\n",
       "<table border=\"1\" class=\"dataframe\">\n",
       "  <thead>\n",
       "    <tr style=\"text-align: right;\">\n",
       "      <th></th>\n",
       "      <th>Season</th>\n",
       "      <th>Salary Cap</th>\n",
       "      <th>Luxury Tax</th>\n",
       "      <th>BAE</th>\n",
       "      <th>Standard /Non-Taxpayer MLE</th>\n",
       "      <th>Taxpayer MLE</th>\n",
       "      <th>Team Room /Under Cap MLE</th>\n",
       "    </tr>\n",
       "  </thead>\n",
       "  <tbody>\n",
       "    <tr>\n",
       "      <th>0</th>\n",
       "      <td>2027-2028</td>\n",
       "      <td>167513000</td>\n",
       "      <td>202355000.0</td>\n",
       "      <td>5562000.0</td>\n",
       "      <td>14210000.0</td>\n",
       "      <td>8776000.0</td>\n",
       "      <td>7317000.0</td>\n",
       "    </tr>\n",
       "    <tr>\n",
       "      <th>1</th>\n",
       "      <td>2026-2027</td>\n",
       "      <td>159536000</td>\n",
       "      <td>192719000.0</td>\n",
       "      <td>5297000.0</td>\n",
       "      <td>13533000.0</td>\n",
       "      <td>8358000.0</td>\n",
       "      <td>6969000.0</td>\n",
       "    </tr>\n",
       "    <tr>\n",
       "      <th>2</th>\n",
       "      <td>2025-2026</td>\n",
       "      <td>151939000</td>\n",
       "      <td>183542000.0</td>\n",
       "      <td>5045000.0</td>\n",
       "      <td>12889000.0</td>\n",
       "      <td>7960000.0</td>\n",
       "      <td>6637000.0</td>\n",
       "    </tr>\n",
       "    <tr>\n",
       "      <th>3</th>\n",
       "      <td>2024-2025</td>\n",
       "      <td>144704000</td>\n",
       "      <td>174802000.0</td>\n",
       "      <td>4805000.0</td>\n",
       "      <td>12275000.0</td>\n",
       "      <td>7581000.0</td>\n",
       "      <td>6321000.0</td>\n",
       "    </tr>\n",
       "    <tr>\n",
       "      <th>4</th>\n",
       "      <td>2023-2024</td>\n",
       "      <td>137813000</td>\n",
       "      <td>166478000.0</td>\n",
       "      <td>4576000.0</td>\n",
       "      <td>11690000.0</td>\n",
       "      <td>7220000.0</td>\n",
       "      <td>6020000.0</td>\n",
       "    </tr>\n",
       "  </tbody>\n",
       "</table>\n",
       "</div>"
      ],
      "text/plain": [
       "      Season  Salary Cap   Luxury Tax        BAE  Standard /Non-Taxpayer MLE  \\\n",
       "0  2027-2028   167513000  202355000.0  5562000.0                  14210000.0   \n",
       "1  2026-2027   159536000  192719000.0  5297000.0                  13533000.0   \n",
       "2  2025-2026   151939000  183542000.0  5045000.0                  12889000.0   \n",
       "3  2024-2025   144704000  174802000.0  4805000.0                  12275000.0   \n",
       "4  2023-2024   137813000  166478000.0  4576000.0                  11690000.0   \n",
       "\n",
       "   Taxpayer MLE  Team Room /Under Cap MLE  \n",
       "0     8776000.0                 7317000.0  \n",
       "1     8358000.0                 6969000.0  \n",
       "2     7960000.0                 6637000.0  \n",
       "3     7581000.0                 6321000.0  \n",
       "4     7220000.0                 6020000.0  "
      ]
     },
     "execution_count": 45,
     "metadata": {},
     "output_type": "execute_result"
    }
   ],
   "source": [
    "print(salary_caps.shape[0])\n",
    "salary_caps.head()"
   ]
  },
  {
   "cell_type": "code",
   "execution_count": 49,
   "metadata": {},
   "outputs": [],
   "source": [
    "salary_caps[\"regular_season\"] = salary_caps.Season.apply(lambda x: x.split(\"-\")[0]).astype(int)"
   ]
  },
  {
   "cell_type": "code",
   "execution_count": 83,
   "metadata": {},
   "outputs": [],
   "source": [
    "player_salary_data[\"salary_pct_of_cap\"] = player_salary_data.apply(lambda x: x.salary / bar[x.regular_season], axis=1)"
   ]
  },
  {
   "cell_type": "code",
   "execution_count": 72,
   "metadata": {},
   "outputs": [],
   "source": [
    "bar = salary_caps.set_index(\"regular_season\")[\"Salary Cap\"].to_dict()"
   ]
  },
  {
   "cell_type": "code",
   "execution_count": 81,
   "metadata": {},
   "outputs": [
    {
     "data": {
      "text/plain": [
       "{2027: 167513000,\n",
       " 2026: 159536000,\n",
       " 2025: 151939000,\n",
       " 2024: 144704000,\n",
       " 2023: 137813000,\n",
       " 2022: 131250000,\n",
       " 2021: 125000000,\n",
       " 2020: 115000000,\n",
       " 2019: 109140000,\n",
       " 2018: 101869000,\n",
       " 2017: 99093000,\n",
       " 2016: 94143000,\n",
       " 2015: 70000000,\n",
       " 2014: 63065000,\n",
       " 2013: 58679000,\n",
       " 2012: 58044000,\n",
       " 2011: 58044000,\n",
       " 2010: 58044000,\n",
       " 2009: 57700000,\n",
       " 2008: 58680000,\n",
       " 2007: 55630000,\n",
       " 2006: 53135000,\n",
       " 2005: 49500000,\n",
       " 2004: 43870000,\n",
       " 2003: 43840000,\n",
       " 2002: 40271000,\n",
       " 2001: 42500000,\n",
       " 2000: 35500000,\n",
       " 1999: 34000000,\n",
       " 1998: 30000000,\n",
       " 1997: 26900000,\n",
       " 1996: 24363000,\n",
       " 1995: 23000000,\n",
       " 1994: 15964000,\n",
       " 1993: 15175000,\n",
       " 1992: 14000000,\n",
       " 1991: 12500000,\n",
       " 1990: 11871000,\n",
       " 1989: 9802000,\n",
       " 1988: 7232000,\n",
       " 1987: 6164000,\n",
       " 1986: 4945000,\n",
       " 1985: 4233000,\n",
       " 1984: 3600000}"
      ]
     },
     "execution_count": 81,
     "metadata": {},
     "output_type": "execute_result"
    }
   ],
   "source": [
    "bar"
   ]
  },
  {
   "cell_type": "markdown",
   "metadata": {},
   "source": [
    "Need to multiply denominator by # of teams"
   ]
  },
  {
   "cell_type": "code",
   "execution_count": 71,
   "metadata": {},
   "outputs": [],
   "source": [
    "num_unique_teams = player_salary_data.groupby(\"regular_season\").team.nunique()"
   ]
  },
  {
   "cell_type": "code",
   "execution_count": 64,
   "metadata": {},
   "outputs": [
    {
     "data": {
      "text/html": [
       "<div>\n",
       "<style scoped>\n",
       "    .dataframe tbody tr th:only-of-type {\n",
       "        vertical-align: middle;\n",
       "    }\n",
       "\n",
       "    .dataframe tbody tr th {\n",
       "        vertical-align: top;\n",
       "    }\n",
       "\n",
       "    .dataframe thead th {\n",
       "        text-align: right;\n",
       "    }\n",
       "</style>\n",
       "<table border=\"1\" class=\"dataframe\">\n",
       "  <thead>\n",
       "    <tr style=\"text-align: right;\">\n",
       "      <th></th>\n",
       "      <th>regular_season</th>\n",
       "      <th>three_positions</th>\n",
       "      <th>salary</th>\n",
       "      <th>Salary Cap</th>\n",
       "      <th>pct_of_salary_cap</th>\n",
       "    </tr>\n",
       "  </thead>\n",
       "  <tbody>\n",
       "    <tr>\n",
       "      <th>0</th>\n",
       "      <td>1990</td>\n",
       "      <td>Center</td>\n",
       "      <td>8.384000e+07</td>\n",
       "      <td>11871000</td>\n",
       "      <td>7.062590</td>\n",
       "    </tr>\n",
       "    <tr>\n",
       "      <th>1</th>\n",
       "      <td>1990</td>\n",
       "      <td>Forward</td>\n",
       "      <td>1.175760e+08</td>\n",
       "      <td>11871000</td>\n",
       "      <td>9.904473</td>\n",
       "    </tr>\n",
       "    <tr>\n",
       "      <th>2</th>\n",
       "      <td>1990</td>\n",
       "      <td>Guard</td>\n",
       "      <td>9.314700e+07</td>\n",
       "      <td>11871000</td>\n",
       "      <td>7.846601</td>\n",
       "    </tr>\n",
       "    <tr>\n",
       "      <th>3</th>\n",
       "      <td>1991</td>\n",
       "      <td>Center</td>\n",
       "      <td>1.007540e+08</td>\n",
       "      <td>12500000</td>\n",
       "      <td>8.060320</td>\n",
       "    </tr>\n",
       "    <tr>\n",
       "      <th>4</th>\n",
       "      <td>1991</td>\n",
       "      <td>Forward</td>\n",
       "      <td>1.448000e+08</td>\n",
       "      <td>12500000</td>\n",
       "      <td>11.584000</td>\n",
       "    </tr>\n",
       "    <tr>\n",
       "      <th>...</th>\n",
       "      <td>...</td>\n",
       "      <td>...</td>\n",
       "      <td>...</td>\n",
       "      <td>...</td>\n",
       "      <td>...</td>\n",
       "    </tr>\n",
       "    <tr>\n",
       "      <th>82</th>\n",
       "      <td>2017</td>\n",
       "      <td>Forward</td>\n",
       "      <td>1.281902e+09</td>\n",
       "      <td>99093000</td>\n",
       "      <td>12.936356</td>\n",
       "    </tr>\n",
       "    <tr>\n",
       "      <th>83</th>\n",
       "      <td>2017</td>\n",
       "      <td>Guard</td>\n",
       "      <td>1.415822e+09</td>\n",
       "      <td>99093000</td>\n",
       "      <td>14.287812</td>\n",
       "    </tr>\n",
       "    <tr>\n",
       "      <th>84</th>\n",
       "      <td>2018</td>\n",
       "      <td>Center</td>\n",
       "      <td>6.699926e+08</td>\n",
       "      <td>101869000</td>\n",
       "      <td>6.577002</td>\n",
       "    </tr>\n",
       "    <tr>\n",
       "      <th>85</th>\n",
       "      <td>2018</td>\n",
       "      <td>Forward</td>\n",
       "      <td>1.405525e+09</td>\n",
       "      <td>101869000</td>\n",
       "      <td>13.797378</td>\n",
       "    </tr>\n",
       "    <tr>\n",
       "      <th>86</th>\n",
       "      <td>2018</td>\n",
       "      <td>Guard</td>\n",
       "      <td>1.529196e+09</td>\n",
       "      <td>101869000</td>\n",
       "      <td>15.011396</td>\n",
       "    </tr>\n",
       "  </tbody>\n",
       "</table>\n",
       "<p>87 rows × 5 columns</p>\n",
       "</div>"
      ],
      "text/plain": [
       "    regular_season three_positions        salary  Salary Cap  \\\n",
       "0             1990          Center  8.384000e+07    11871000   \n",
       "1             1990         Forward  1.175760e+08    11871000   \n",
       "2             1990           Guard  9.314700e+07    11871000   \n",
       "3             1991          Center  1.007540e+08    12500000   \n",
       "4             1991         Forward  1.448000e+08    12500000   \n",
       "..             ...             ...           ...         ...   \n",
       "82            2017         Forward  1.281902e+09    99093000   \n",
       "83            2017           Guard  1.415822e+09    99093000   \n",
       "84            2018          Center  6.699926e+08   101869000   \n",
       "85            2018         Forward  1.405525e+09   101869000   \n",
       "86            2018           Guard  1.529196e+09   101869000   \n",
       "\n",
       "    pct_of_salary_cap  \n",
       "0            7.062590  \n",
       "1            9.904473  \n",
       "2            7.846601  \n",
       "3            8.060320  \n",
       "4           11.584000  \n",
       "..                ...  \n",
       "82          12.936356  \n",
       "83          14.287812  \n",
       "84           6.577002  \n",
       "85          13.797378  \n",
       "86          15.011396  \n",
       "\n",
       "[87 rows x 5 columns]"
      ]
     },
     "execution_count": 64,
     "metadata": {},
     "output_type": "execute_result"
    }
   ],
   "source": [
    "foo = player_salary_data.groupby(\n",
    "        [\"regular_season\", \"three_positions\"]\n",
    "    ).salary.sum().reset_index()\n",
    "foo.merge(bar, on=\"regular_season\").assign(pct_of_salary_cap = lambda x: x.salary / x[\"Salary Cap\"])"
   ]
  },
  {
   "cell_type": "markdown",
   "metadata": {},
   "source": [
    "# By Height and Weight"
   ]
  },
  {
   "cell_type": "code",
   "execution_count": 75,
   "metadata": {},
   "outputs": [
    {
     "data": {
      "text/html": [
       "<div>\n",
       "<style scoped>\n",
       "    .dataframe tbody tr th:only-of-type {\n",
       "        vertical-align: middle;\n",
       "    }\n",
       "\n",
       "    .dataframe tbody tr th {\n",
       "        vertical-align: top;\n",
       "    }\n",
       "\n",
       "    .dataframe thead th {\n",
       "        text-align: right;\n",
       "    }\n",
       "</style>\n",
       "<table border=\"1\" class=\"dataframe\">\n",
       "  <thead>\n",
       "    <tr style=\"text-align: right;\">\n",
       "      <th></th>\n",
       "      <th>player_name</th>\n",
       "      <th>salary</th>\n",
       "      <th>salary_inflation_adj</th>\n",
       "      <th>season</th>\n",
       "      <th>team</th>\n",
       "      <th>regular_season</th>\n",
       "      <th>cleaned_names</th>\n",
       "      <th>PLAYER_ID</th>\n",
       "      <th>regular_seasons</th>\n",
       "      <th>PERSON_ID</th>\n",
       "      <th>HEIGHT</th>\n",
       "      <th>WEIGHT</th>\n",
       "      <th>POSITION</th>\n",
       "      <th>five_positions</th>\n",
       "      <th>three_positions</th>\n",
       "    </tr>\n",
       "  </thead>\n",
       "  <tbody>\n",
       "    <tr>\n",
       "      <th>0</th>\n",
       "      <td>A.C. Green</td>\n",
       "      <td>1750000.0</td>\n",
       "      <td>3450733.0</td>\n",
       "      <td>1990-1991</td>\n",
       "      <td>Los Angeles Lakers</td>\n",
       "      <td>1990</td>\n",
       "      <td>AC Green</td>\n",
       "      <td>920.0</td>\n",
       "      <td>21990</td>\n",
       "      <td>920.0</td>\n",
       "      <td>81</td>\n",
       "      <td>225.0</td>\n",
       "      <td>Forward</td>\n",
       "      <td>Forward</td>\n",
       "      <td>Forward</td>\n",
       "    </tr>\n",
       "    <tr>\n",
       "      <th>1</th>\n",
       "      <td>A.C. Green</td>\n",
       "      <td>1750000.0</td>\n",
       "      <td>3295957.0</td>\n",
       "      <td>1991-1992</td>\n",
       "      <td>Los Angeles Lakers</td>\n",
       "      <td>1991</td>\n",
       "      <td>AC Green</td>\n",
       "      <td>920.0</td>\n",
       "      <td>21991</td>\n",
       "      <td>920.0</td>\n",
       "      <td>81</td>\n",
       "      <td>225.0</td>\n",
       "      <td>Forward</td>\n",
       "      <td>Forward</td>\n",
       "      <td>Forward</td>\n",
       "    </tr>\n",
       "    <tr>\n",
       "      <th>2</th>\n",
       "      <td>A.C. Green</td>\n",
       "      <td>1750000.0</td>\n",
       "      <td>3197220.0</td>\n",
       "      <td>1992-1993</td>\n",
       "      <td>Los Angeles Lakers</td>\n",
       "      <td>1992</td>\n",
       "      <td>AC Green</td>\n",
       "      <td>920.0</td>\n",
       "      <td>21992</td>\n",
       "      <td>920.0</td>\n",
       "      <td>81</td>\n",
       "      <td>225.0</td>\n",
       "      <td>Forward</td>\n",
       "      <td>Forward</td>\n",
       "      <td>Forward</td>\n",
       "    </tr>\n",
       "    <tr>\n",
       "      <th>3</th>\n",
       "      <td>A.C. Green</td>\n",
       "      <td>1885000.0</td>\n",
       "      <td>3343694.0</td>\n",
       "      <td>1993-1994</td>\n",
       "      <td>Phoenix Suns</td>\n",
       "      <td>1993</td>\n",
       "      <td>AC Green</td>\n",
       "      <td>920.0</td>\n",
       "      <td>21993</td>\n",
       "      <td>920.0</td>\n",
       "      <td>81</td>\n",
       "      <td>225.0</td>\n",
       "      <td>Forward</td>\n",
       "      <td>Forward</td>\n",
       "      <td>Forward</td>\n",
       "    </tr>\n",
       "    <tr>\n",
       "      <th>4</th>\n",
       "      <td>A.C. Green</td>\n",
       "      <td>6472600.0</td>\n",
       "      <td>11202102.0</td>\n",
       "      <td>1994-1995</td>\n",
       "      <td>Phoenix Suns</td>\n",
       "      <td>1994</td>\n",
       "      <td>AC Green</td>\n",
       "      <td>920.0</td>\n",
       "      <td>21994</td>\n",
       "      <td>920.0</td>\n",
       "      <td>81</td>\n",
       "      <td>225.0</td>\n",
       "      <td>Forward</td>\n",
       "      <td>Forward</td>\n",
       "      <td>Forward</td>\n",
       "    </tr>\n",
       "  </tbody>\n",
       "</table>\n",
       "</div>"
      ],
      "text/plain": [
       "  player_name     salary  salary_inflation_adj     season                team  \\\n",
       "0  A.C. Green  1750000.0             3450733.0  1990-1991  Los Angeles Lakers   \n",
       "1  A.C. Green  1750000.0             3295957.0  1991-1992  Los Angeles Lakers   \n",
       "2  A.C. Green  1750000.0             3197220.0  1992-1993  Los Angeles Lakers   \n",
       "3  A.C. Green  1885000.0             3343694.0  1993-1994        Phoenix Suns   \n",
       "4  A.C. Green  6472600.0            11202102.0  1994-1995        Phoenix Suns   \n",
       "\n",
       "   regular_season cleaned_names  PLAYER_ID  regular_seasons  PERSON_ID  \\\n",
       "0            1990      AC Green      920.0            21990      920.0   \n",
       "1            1991      AC Green      920.0            21991      920.0   \n",
       "2            1992      AC Green      920.0            21992      920.0   \n",
       "3            1993      AC Green      920.0            21993      920.0   \n",
       "4            1994      AC Green      920.0            21994      920.0   \n",
       "\n",
       "   HEIGHT  WEIGHT POSITION five_positions three_positions  \n",
       "0      81   225.0  Forward        Forward         Forward  \n",
       "1      81   225.0  Forward        Forward         Forward  \n",
       "2      81   225.0  Forward        Forward         Forward  \n",
       "3      81   225.0  Forward        Forward         Forward  \n",
       "4      81   225.0  Forward        Forward         Forward  "
      ]
     },
     "execution_count": 75,
     "metadata": {},
     "output_type": "execute_result"
    }
   ],
   "source": [
    "player_salary_data.head()"
   ]
  },
  {
   "cell_type": "code",
   "execution_count": 80,
   "metadata": {},
   "outputs": [
    {
     "data": {
      "text/plain": [
       "0    0.147418\n",
       "1    0.140000\n",
       "2    0.125000\n",
       "3    0.124217\n",
       "4    0.405450\n",
       "dtype: float64"
      ]
     },
     "execution_count": 80,
     "metadata": {},
     "output_type": "execute_result"
    }
   ],
   "source": [
    "player_salary_data.apply(lambda x: x.salary / bar[x.regular_season], axis=1).head()"
   ]
  },
  {
   "cell_type": "markdown",
   "metadata": {},
   "source": [
    "# Adding in Age"
   ]
  },
  {
   "cell_type": "code",
   "execution_count": null,
   "metadata": {},
   "outputs": [],
   "source": []
  },
  {
   "cell_type": "markdown",
   "metadata": {},
   "source": [
    "# Adding in Salary Metadata\n",
    "\n",
    "- https://basketball.realgm.com/nba/info/minimum_scale/2017\n",
    "- https://basketball.realgm.com/nba/info/rookie_scale"
   ]
  },
  {
   "cell_type": "code",
   "execution_count": null,
   "metadata": {},
   "outputs": [],
   "source": []
  }
 ],
 "metadata": {
  "kernelspec": {
   "display_name": "Python 3",
   "language": "python",
   "name": "python3"
  },
  "language_info": {
   "codemirror_mode": {
    "name": "ipython",
    "version": 3
   },
   "file_extension": ".py",
   "mimetype": "text/x-python",
   "name": "python",
   "nbconvert_exporter": "python",
   "pygments_lexer": "ipython3",
   "version": "3.8.5"
  }
 },
 "nbformat": 4,
 "nbformat_minor": 4
}
